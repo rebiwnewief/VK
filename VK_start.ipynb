{
  "nbformat": 4,
  "nbformat_minor": 0,
  "metadata": {
    "colab": {
      "name": "VK_read.ipynb",
      "provenance": [],
      "collapsed_sections": []
    },
    "kernelspec": {
      "name": "python3",
      "display_name": "Python 3"
    }
  },
  "cells": [
    {
      "cell_type": "code",
      "metadata": {
        "id": "SoPuzRgfzvUx",
        "colab_type": "code",
        "colab": {}
      },
      "source": [
        "import gzip\n",
        "import shutil\n",
        "import tarfile\n",
        "\n",
        "with gzip.open('ThirtyMusic.tar.gz', 'rb') as f_in:\n",
        "  with open('ThirtyMusic.tar', 'wb') as f_out:\n",
        "    shutil.copyfileobj(f_in, f_out)\n"
      ],
      "execution_count": null,
      "outputs": []
    },
    {
      "cell_type": "code",
      "metadata": {
        "id": "nf0fmNqv0huv",
        "colab_type": "code",
        "colab": {}
      },
      "source": [
        "tar = tarfile.open('ThirtyMusic.tar', \"r:\")\n",
        "tar.extractall()\n",
        "tar.close()"
      ],
      "execution_count": null,
      "outputs": []
    },
    {
      "cell_type": "code",
      "metadata": {
        "id": "2FeTlhMJSboQ",
        "colab_type": "code",
        "colab": {}
      },
      "source": [
        "import pandas as pd\n",
        "import json\n",
        "import numpy as np"
      ],
      "execution_count": null,
      "outputs": []
    },
    {
      "cell_type": "code",
      "metadata": {
        "id": "88Kh778DS2WS",
        "colab_type": "code",
        "colab": {}
      },
      "source": [
        "sessions = pd.read_csv('relations/sessions.idomaar', sep = '\\t', header = None, encoding = 'ascii')"
      ],
      "execution_count": null,
      "outputs": []
    },
    {
      "cell_type": "code",
      "metadata": {
        "id": "VU-T_mqCUhV6",
        "colab_type": "code",
        "colab": {
          "base_uri": "https://localhost:8080/",
          "height": 206
        },
        "outputId": "5ee9ec7b-1da0-4c39-9e98-49242957ca82"
      },
      "source": [
        "sessions.head()"
      ],
      "execution_count": null,
      "outputs": [
        {
          "output_type": "execute_result",
          "data": {
            "text/html": [
              "<div>\n",
              "<style scoped>\n",
              "    .dataframe tbody tr th:only-of-type {\n",
              "        vertical-align: middle;\n",
              "    }\n",
              "\n",
              "    .dataframe tbody tr th {\n",
              "        vertical-align: top;\n",
              "    }\n",
              "\n",
              "    .dataframe thead th {\n",
              "        text-align: right;\n",
              "    }\n",
              "</style>\n",
              "<table border=\"1\" class=\"dataframe\">\n",
              "  <thead>\n",
              "    <tr style=\"text-align: right;\">\n",
              "      <th></th>\n",
              "      <th>0</th>\n",
              "      <th>1</th>\n",
              "      <th>2</th>\n",
              "      <th>3</th>\n",
              "    </tr>\n",
              "  </thead>\n",
              "  <tbody>\n",
              "    <tr>\n",
              "      <th>0</th>\n",
              "      <td>event.session</td>\n",
              "      <td>287144</td>\n",
              "      <td>1390231051</td>\n",
              "      <td>{\"numtracks\":23,\"playtime\":4547} {\"subjects\":[...</td>\n",
              "    </tr>\n",
              "    <tr>\n",
              "      <th>1</th>\n",
              "      <td>event.session</td>\n",
              "      <td>287145</td>\n",
              "      <td>1390241844</td>\n",
              "      <td>{\"numtracks\":11,\"playtime\":2907} {\"subjects\":[...</td>\n",
              "    </tr>\n",
              "    <tr>\n",
              "      <th>2</th>\n",
              "      <td>event.session</td>\n",
              "      <td>287146</td>\n",
              "      <td>1390303249</td>\n",
              "      <td>{\"numtracks\":16,\"playtime\":3191} {\"subjects\":[...</td>\n",
              "    </tr>\n",
              "    <tr>\n",
              "      <th>3</th>\n",
              "      <td>event.session</td>\n",
              "      <td>287147</td>\n",
              "      <td>1390481828</td>\n",
              "      <td>{\"numtracks\":5,\"playtime\":1162} {\"subjects\":[{...</td>\n",
              "    </tr>\n",
              "    <tr>\n",
              "      <th>4</th>\n",
              "      <td>event.session</td>\n",
              "      <td>287140</td>\n",
              "      <td>1421443687</td>\n",
              "      <td>{\"numtracks\":2,\"playtime\":250} {\"subjects\":[{\"...</td>\n",
              "    </tr>\n",
              "  </tbody>\n",
              "</table>\n",
              "</div>"
            ],
            "text/plain": [
              "               0  ...                                                  3\n",
              "0  event.session  ...  {\"numtracks\":23,\"playtime\":4547} {\"subjects\":[...\n",
              "1  event.session  ...  {\"numtracks\":11,\"playtime\":2907} {\"subjects\":[...\n",
              "2  event.session  ...  {\"numtracks\":16,\"playtime\":3191} {\"subjects\":[...\n",
              "3  event.session  ...  {\"numtracks\":5,\"playtime\":1162} {\"subjects\":[{...\n",
              "4  event.session  ...  {\"numtracks\":2,\"playtime\":250} {\"subjects\":[{\"...\n",
              "\n",
              "[5 rows x 4 columns]"
            ]
          },
          "metadata": {
            "tags": []
          },
          "execution_count": 6
        }
      ]
    },
    {
      "cell_type": "markdown",
      "metadata": {
        "id": "GJxdt1qoT27V",
        "colab_type": "text"
      },
      "source": [
        "в каждом эвенте хранятся количество треков, id пользователя и дополнительная информация о кажом треке (использоваться будет только количество проигрываний)"
      ]
    },
    {
      "cell_type": "code",
      "metadata": {
        "id": "eL1EW2ywVd--",
        "colab_type": "code",
        "colab": {}
      },
      "source": [
        "splt = sessions.iloc[0,3].split()"
      ],
      "execution_count": null,
      "outputs": []
    },
    {
      "cell_type": "code",
      "metadata": {
        "id": "OeLe_nAkhNh0",
        "colab_type": "code",
        "colab": {
          "base_uri": "https://localhost:8080/",
          "height": 74
        },
        "outputId": "8f840cda-b491-4704-8c21-ada47f23c2a2"
      },
      "source": [
        "splt"
      ],
      "execution_count": null,
      "outputs": [
        {
          "output_type": "execute_result",
          "data": {
            "text/plain": [
              "['{\"numtracks\":23,\"playtime\":4547}',\n",
              " '{\"subjects\":[{\"type\":\"user\",\"id\":44361}],\"objects\":[{\"type\":\"track\",\"id\":4698874,\"playstart\":0,\"playtime\":58,\"playratio\":null,\"action\":\"play\"},{\"type\":\"track\",\"id\":838286,\"playstart\":58,\"playtime\":310,\"playratio\":1.01,\"action\":\"play\"},{\"type\":\"track\",\"id\":2588097,\"playstart\":368,\"playtime\":179,\"playratio\":1.01,\"action\":\"play\"},{\"type\":\"track\",\"id\":2746740,\"playstart\":547,\"playtime\":342,\"playratio\":1.44,\"action\":\"play\"},{\"type\":\"track\",\"id\":3873988,\"playstart\":889,\"playtime\":259,\"playratio\":1.01,\"action\":\"play\"},{\"type\":\"track\",\"id\":808046,\"playstart\":1148,\"playtime\":236,\"playratio\":1.01,\"action\":\"play\"},{\"type\":\"track\",\"id\":2588498,\"playstart\":1384,\"playtime\":158,\"playratio\":1.01,\"action\":\"play\"},{\"type\":\"track\",\"id\":2492893,\"playstart\":1542,\"playtime\":196,\"playratio\":1.02,\"action\":\"play\"},{\"type\":\"track\",\"id\":2168413,\"playstart\":1738,\"playtime\":165,\"playratio\":1.02,\"action\":\"play\"},{\"type\":\"track\",\"id\":1778345,\"playstart\":1903,\"playtime\":448,\"playratio\":1.07,\"action\":\"play\"},{\"type\":\"track\",\"id\":2989691,\"playstart\":2351,\"playtime\":194,\"playratio\":0.99,\"action\":\"play\"},{\"type\":\"track\",\"id\":4698875,\"playstart\":2545,\"playtime\":256,\"playratio\":null,\"action\":\"play\"},{\"type\":\"track\",\"id\":2985955,\"playstart\":2801,\"playtime\":257,\"playratio\":1.54,\"action\":\"play\"},{\"type\":\"track\",\"id\":4698876,\"playstart\":3058,\"playtime\":177,\"playratio\":null,\"action\":\"play\"},{\"type\":\"track\",\"id\":1728736,\"playstart\":3235,\"playtime\":270,\"playratio\":0.96,\"action\":\"play\"},{\"type\":\"track\",\"id\":2615446,\"playstart\":3505,\"playtime\":172,\"playratio\":0.93,\"action\":\"play\"},{\"type\":\"track\",\"id\":4698877,\"playstart\":3677,\"playtime\":177,\"playratio\":null,\"action\":\"play\"},{\"type\":\"track\",\"id\":4698878,\"playstart\":3854,\"playtime\":144,\"playratio\":null,\"action\":\"play\"},{\"type\":\"track\",\"id\":515524,\"playstart\":3998,\"playtime\":134,\"playratio\":1.10,\"action\":\"play\"},{\"type\":\"track\",\"id\":4698879,\"playstart\":4132,\"playtime\":172,\"playratio\":null,\"action\":\"play\"},{\"type\":\"track\",\"id\":4698880,\"playstart\":4304,\"playtime\":98,\"playratio\":null,\"action\":\"play\"},{\"type\":\"track\",\"id\":2444241,\"playstart\":4402,\"playtime\":146,\"playratio\":1.04,\"action\":\"play\"},{\"type\":\"track\",\"id\":4698881,\"playstart\":4548,\"playtime\":-1,\"playratio\":1.00,\"action\":null}]}']"
            ]
          },
          "metadata": {
            "tags": []
          },
          "execution_count": 71
        }
      ]
    },
    {
      "cell_type": "code",
      "metadata": {
        "id": "Vq94jcBsV9gb",
        "colab_type": "code",
        "colab": {
          "base_uri": "https://localhost:8080/",
          "height": 128
        },
        "outputId": "1ded3e08-df50-42ba-deee-e51637599db0"
      },
      "source": [
        "json.loads(splt[1])['objects'][0]"
      ],
      "execution_count": null,
      "outputs": [
        {
          "output_type": "execute_result",
          "data": {
            "text/plain": [
              "{'action': 'play',\n",
              " 'id': 4698874,\n",
              " 'playratio': None,\n",
              " 'playstart': 0,\n",
              " 'playtime': 58,\n",
              " 'type': 'track'}"
            ]
          },
          "metadata": {
            "tags": []
          },
          "execution_count": 36
        }
      ]
    },
    {
      "cell_type": "code",
      "metadata": {
        "id": "7jmVdZ8Ou0PX",
        "colab_type": "code",
        "colab": {
          "base_uri": "https://localhost:8080/",
          "height": 220
        },
        "outputId": "f4b7f346-f3f8-4f99-80b1-41d105404560"
      },
      "source": [
        "sessions.info()"
      ],
      "execution_count": null,
      "outputs": [
        {
          "output_type": "stream",
          "text": [
            "<class 'pandas.core.frame.DataFrame'>\n",
            "RangeIndex: 2764474 entries, 0 to 2764473\n",
            "Data columns (total 4 columns):\n",
            " #   Column  Dtype \n",
            "---  ------  ----- \n",
            " 0   0       object\n",
            " 1   1       int64 \n",
            " 2   2       int64 \n",
            " 3   3       object\n",
            "dtypes: int64(2), object(2)\n",
            "memory usage: 84.4+ MB\n"
          ],
          "name": "stdout"
        }
      ]
    },
    {
      "cell_type": "markdown",
      "metadata": {
        "id": "qwhizU8iUqLo",
        "colab_type": "text"
      },
      "source": [
        "Будем сохранять каждое изменение на всякий случай"
      ]
    },
    {
      "cell_type": "code",
      "metadata": {
        "id": "6OEU5NLMu4TA",
        "colab_type": "code",
        "colab": {}
      },
      "source": [
        "sessions.to_csv('sessions.csv', index = False)"
      ],
      "execution_count": null,
      "outputs": []
    },
    {
      "cell_type": "code",
      "metadata": {
        "id": "wbrbT3-4WykK",
        "colab_type": "code",
        "colab": {}
      },
      "source": [
        "persons = pd.read_csv('entities/persons.idomaar', sep = '\\t', header = None, encoding='UTF-8')"
      ],
      "execution_count": null,
      "outputs": []
    },
    {
      "cell_type": "code",
      "metadata": {
        "id": "e0XD2oY6YUCi",
        "colab_type": "code",
        "colab": {
          "base_uri": "https://localhost:8080/",
          "height": 206
        },
        "outputId": "81a29ce4-8907-419e-c723-3e9e726ee792"
      },
      "source": [
        "persons.head()"
      ],
      "execution_count": null,
      "outputs": [
        {
          "output_type": "execute_result",
          "data": {
            "text/html": [
              "<div>\n",
              "<style scoped>\n",
              "    .dataframe tbody tr th:only-of-type {\n",
              "        vertical-align: middle;\n",
              "    }\n",
              "\n",
              "    .dataframe tbody tr th {\n",
              "        vertical-align: top;\n",
              "    }\n",
              "\n",
              "    .dataframe thead th {\n",
              "        text-align: right;\n",
              "    }\n",
              "</style>\n",
              "<table border=\"1\" class=\"dataframe\">\n",
              "  <thead>\n",
              "    <tr style=\"text-align: right;\">\n",
              "      <th></th>\n",
              "      <th>0</th>\n",
              "      <th>1</th>\n",
              "      <th>2</th>\n",
              "      <th>3</th>\n",
              "      <th>4</th>\n",
              "    </tr>\n",
              "  </thead>\n",
              "  <tbody>\n",
              "    <tr>\n",
              "      <th>0</th>\n",
              "      <td>person</td>\n",
              "      <td>145148</td>\n",
              "      <td>-1</td>\n",
              "      <td>{\"MBID\":null, \"name\":\"Everything+Is+Illuminated\"}</td>\n",
              "      <td>{}</td>\n",
              "    </tr>\n",
              "    <tr>\n",
              "      <th>1</th>\n",
              "      <td>person</td>\n",
              "      <td>297899</td>\n",
              "      <td>-1</td>\n",
              "      <td>{\"MBID\":null, \"name\":\"Robin+O%27Brien\"}</td>\n",
              "      <td>{}</td>\n",
              "    </tr>\n",
              "    <tr>\n",
              "      <th>2</th>\n",
              "      <td>person</td>\n",
              "      <td>250429</td>\n",
              "      <td>-1</td>\n",
              "      <td>{\"MBID\":null, \"name\":\"Nicholas+Gunn++(2012)\"}</td>\n",
              "      <td>{}</td>\n",
              "    </tr>\n",
              "    <tr>\n",
              "      <th>3</th>\n",
              "      <td>person</td>\n",
              "      <td>32765</td>\n",
              "      <td>-1</td>\n",
              "      <td>{\"MBID\":null, \"name\":\"Aspasia+Stratigou\"}</td>\n",
              "      <td>{}</td>\n",
              "    </tr>\n",
              "    <tr>\n",
              "      <th>4</th>\n",
              "      <td>person</td>\n",
              "      <td>18689</td>\n",
              "      <td>-1</td>\n",
              "      <td>{\"MBID\":null, \"name\":\"Allison+Veltz\"}</td>\n",
              "      <td>{}</td>\n",
              "    </tr>\n",
              "  </tbody>\n",
              "</table>\n",
              "</div>"
            ],
            "text/plain": [
              "        0       1  2                                                  3   4\n",
              "0  person  145148 -1  {\"MBID\":null, \"name\":\"Everything+Is+Illuminated\"}  {}\n",
              "1  person  297899 -1            {\"MBID\":null, \"name\":\"Robin+O%27Brien\"}  {}\n",
              "2  person  250429 -1      {\"MBID\":null, \"name\":\"Nicholas+Gunn++(2012)\"}  {}\n",
              "3  person   32765 -1          {\"MBID\":null, \"name\":\"Aspasia+Stratigou\"}  {}\n",
              "4  person   18689 -1              {\"MBID\":null, \"name\":\"Allison+Veltz\"}  {}"
            ]
          },
          "metadata": {
            "tags": []
          },
          "execution_count": 30
        }
      ]
    },
    {
      "cell_type": "code",
      "metadata": {
        "id": "rUZ1ZnHUbfyA",
        "colab_type": "code",
        "colab": {}
      },
      "source": [
        "persons = persons.drop([0, 2, 4], axis = 1)"
      ],
      "execution_count": null,
      "outputs": []
    },
    {
      "cell_type": "code",
      "metadata": {
        "id": "OcXi3gMUuUd5",
        "colab_type": "code",
        "colab": {
          "base_uri": "https://localhost:8080/",
          "height": 35
        },
        "outputId": "5faa05f5-e37d-45ae-9277-a00425e8f7f8"
      },
      "source": [
        "persons.iloc[0,1]"
      ],
      "execution_count": null,
      "outputs": [
        {
          "output_type": "execute_result",
          "data": {
            "text/plain": [
              "'{\"MBID\":null, \"name\":\"Everything+Is+Illuminated\"}'"
            ]
          },
          "metadata": {
            "tags": []
          },
          "execution_count": 141
        }
      ]
    },
    {
      "cell_type": "code",
      "metadata": {
        "id": "QBVvZ_SHuUpm",
        "colab_type": "code",
        "colab": {}
      },
      "source": [
        "MBID = []\n",
        "name = []\n",
        "for val in persons.iloc[:,1].values:\n",
        "    line = json.loads(val)\n",
        "    MBID.append(line['MBID'])\n",
        "    name.append(line['name'])"
      ],
      "execution_count": null,
      "outputs": []
    },
    {
      "cell_type": "code",
      "metadata": {
        "id": "SK_cK5_Fuhxa",
        "colab_type": "code",
        "colab": {}
      },
      "source": [
        "persons['MBID'] = MBID\n",
        "persons['name'] = name"
      ],
      "execution_count": null,
      "outputs": []
    },
    {
      "cell_type": "code",
      "metadata": {
        "id": "yeVwJRa0ujup",
        "colab_type": "code",
        "colab": {}
      },
      "source": [
        "persons = persons.drop([3], axis = 1)"
      ],
      "execution_count": null,
      "outputs": []
    },
    {
      "cell_type": "code",
      "metadata": {
        "id": "hb9y6LpdumW5",
        "colab_type": "code",
        "colab": {
          "base_uri": "https://localhost:8080/",
          "height": 206
        },
        "outputId": "0ab54885-fe68-4b35-ba69-f8450aea4502"
      },
      "source": [
        "persons.head()"
      ],
      "execution_count": null,
      "outputs": [
        {
          "output_type": "execute_result",
          "data": {
            "text/html": [
              "<div>\n",
              "<style scoped>\n",
              "    .dataframe tbody tr th:only-of-type {\n",
              "        vertical-align: middle;\n",
              "    }\n",
              "\n",
              "    .dataframe tbody tr th {\n",
              "        vertical-align: top;\n",
              "    }\n",
              "\n",
              "    .dataframe thead th {\n",
              "        text-align: right;\n",
              "    }\n",
              "</style>\n",
              "<table border=\"1\" class=\"dataframe\">\n",
              "  <thead>\n",
              "    <tr style=\"text-align: right;\">\n",
              "      <th></th>\n",
              "      <th>1</th>\n",
              "      <th>MBID</th>\n",
              "      <th>name</th>\n",
              "    </tr>\n",
              "  </thead>\n",
              "  <tbody>\n",
              "    <tr>\n",
              "      <th>0</th>\n",
              "      <td>145148</td>\n",
              "      <td>None</td>\n",
              "      <td>Everything+Is+Illuminated</td>\n",
              "    </tr>\n",
              "    <tr>\n",
              "      <th>1</th>\n",
              "      <td>297899</td>\n",
              "      <td>None</td>\n",
              "      <td>Robin+O%27Brien</td>\n",
              "    </tr>\n",
              "    <tr>\n",
              "      <th>2</th>\n",
              "      <td>250429</td>\n",
              "      <td>None</td>\n",
              "      <td>Nicholas+Gunn++(2012)</td>\n",
              "    </tr>\n",
              "    <tr>\n",
              "      <th>3</th>\n",
              "      <td>32765</td>\n",
              "      <td>None</td>\n",
              "      <td>Aspasia+Stratigou</td>\n",
              "    </tr>\n",
              "    <tr>\n",
              "      <th>4</th>\n",
              "      <td>18689</td>\n",
              "      <td>None</td>\n",
              "      <td>Allison+Veltz</td>\n",
              "    </tr>\n",
              "  </tbody>\n",
              "</table>\n",
              "</div>"
            ],
            "text/plain": [
              "        1  MBID                       name\n",
              "0  145148  None  Everything+Is+Illuminated\n",
              "1  297899  None            Robin+O%27Brien\n",
              "2  250429  None      Nicholas+Gunn++(2012)\n",
              "3   32765  None          Aspasia+Stratigou\n",
              "4   18689  None              Allison+Veltz"
            ]
          },
          "metadata": {
            "tags": []
          },
          "execution_count": 145
        }
      ]
    },
    {
      "cell_type": "markdown",
      "metadata": {
        "id": "O1cZ_RZjU1is",
        "colab_type": "text"
      },
      "source": [
        "сохраним информацию о каждом пользователе"
      ]
    },
    {
      "cell_type": "code",
      "metadata": {
        "id": "oSizLSF2v2oZ",
        "colab_type": "code",
        "colab": {}
      },
      "source": [
        "persons.to_csv('persons.csv', index = False)"
      ],
      "execution_count": null,
      "outputs": []
    },
    {
      "cell_type": "code",
      "metadata": {
        "id": "hierN4J5YWG1",
        "colab_type": "code",
        "colab": {}
      },
      "source": [
        "tracks = pd.read_csv('entities/tracks.idomaar', sep = '\\t', header = None, encoding = 'UTF-8')"
      ],
      "execution_count": null,
      "outputs": []
    },
    {
      "cell_type": "code",
      "metadata": {
        "id": "gQ5ze8VVZL2O",
        "colab_type": "code",
        "colab": {
          "base_uri": "https://localhost:8080/",
          "height": 206
        },
        "outputId": "b4f00c05-5d8b-410d-a698-b7e66df3d716"
      },
      "source": [
        "tracks.head()"
      ],
      "execution_count": null,
      "outputs": [
        {
          "output_type": "execute_result",
          "data": {
            "text/html": [
              "<div>\n",
              "<style scoped>\n",
              "    .dataframe tbody tr th:only-of-type {\n",
              "        vertical-align: middle;\n",
              "    }\n",
              "\n",
              "    .dataframe tbody tr th {\n",
              "        vertical-align: top;\n",
              "    }\n",
              "\n",
              "    .dataframe thead th {\n",
              "        text-align: right;\n",
              "    }\n",
              "</style>\n",
              "<table border=\"1\" class=\"dataframe\">\n",
              "  <thead>\n",
              "    <tr style=\"text-align: right;\">\n",
              "      <th></th>\n",
              "      <th>0</th>\n",
              "      <th>1</th>\n",
              "      <th>2</th>\n",
              "      <th>3</th>\n",
              "      <th>4</th>\n",
              "    </tr>\n",
              "  </thead>\n",
              "  <tbody>\n",
              "    <tr>\n",
              "      <th>0</th>\n",
              "      <td>track</td>\n",
              "      <td>0</td>\n",
              "      <td>-1</td>\n",
              "      <td>{\"duration\":-1,\"playcount\":4,\"MBID\":null,\"name...</td>\n",
              "      <td>{\"artists\":[{\"type\":\"person\",\"id\":0}],\"albums\"...</td>\n",
              "    </tr>\n",
              "    <tr>\n",
              "      <th>1</th>\n",
              "      <td>track</td>\n",
              "      <td>1</td>\n",
              "      <td>-1</td>\n",
              "      <td>{\"duration\":-1,\"playcount\":495,\"MBID\":null,\"na...</td>\n",
              "      <td>{\"artists\":[{\"type\":\"person\",\"id\":1}],\"albums\"...</td>\n",
              "    </tr>\n",
              "    <tr>\n",
              "      <th>2</th>\n",
              "      <td>track</td>\n",
              "      <td>2</td>\n",
              "      <td>-1</td>\n",
              "      <td>{\"duration\":-1,\"playcount\":2,\"MBID\":null,\"name...</td>\n",
              "      <td>{\"artists\":[{\"type\":\"person\",\"id\":2}],\"albums\"...</td>\n",
              "    </tr>\n",
              "    <tr>\n",
              "      <th>3</th>\n",
              "      <td>track</td>\n",
              "      <td>3</td>\n",
              "      <td>-1</td>\n",
              "      <td>{\"duration\":-1,\"playcount\":2,\"MBID\":null,\"name...</td>\n",
              "      <td>{\"artists\":[{\"type\":\"person\",\"id\":3}],\"albums\"...</td>\n",
              "    </tr>\n",
              "    <tr>\n",
              "      <th>4</th>\n",
              "      <td>track</td>\n",
              "      <td>4</td>\n",
              "      <td>-1</td>\n",
              "      <td>{\"duration\":-1,\"playcount\":1,\"MBID\":null,\"name...</td>\n",
              "      <td>{\"artists\":[{\"type\":\"person\",\"id\":4}],\"albums\"...</td>\n",
              "    </tr>\n",
              "  </tbody>\n",
              "</table>\n",
              "</div>"
            ],
            "text/plain": [
              "       0  ...                                                  4\n",
              "0  track  ...  {\"artists\":[{\"type\":\"person\",\"id\":0}],\"albums\"...\n",
              "1  track  ...  {\"artists\":[{\"type\":\"person\",\"id\":1}],\"albums\"...\n",
              "2  track  ...  {\"artists\":[{\"type\":\"person\",\"id\":2}],\"albums\"...\n",
              "3  track  ...  {\"artists\":[{\"type\":\"person\",\"id\":3}],\"albums\"...\n",
              "4  track  ...  {\"artists\":[{\"type\":\"person\",\"id\":4}],\"albums\"...\n",
              "\n",
              "[5 rows x 5 columns]"
            ]
          },
          "metadata": {
            "tags": []
          },
          "execution_count": 61
        }
      ]
    },
    {
      "cell_type": "code",
      "metadata": {
        "id": "bpnzDbhui9fq",
        "colab_type": "code",
        "colab": {
          "base_uri": "https://localhost:8080/",
          "height": 55
        },
        "outputId": "34a71592-0582-4a3b-d7e0-f5f0f7c0133a"
      },
      "source": [
        "tracks.iloc[0, 3]"
      ],
      "execution_count": null,
      "outputs": [
        {
          "output_type": "execute_result",
          "data": {
            "text/plain": [
              "'{\"duration\":-1,\"playcount\":4,\"MBID\":null,\"name\":\"000003+Music+Instructor/_/Dj%27s+Rock+Da+House+%C3%82%E2%89%88%C3%86%E2%89%88%C3%8A01+-+Dj+Max-Pulemet+Vs.+Bomfunk+Mc%27s+-+Electro+Breakdance+party+1+%5B2000%5D+=+CD+ONE%C3%82%E2%89%88%C3%86%E2%89%88%C3%8A\"}'"
            ]
          },
          "metadata": {
            "tags": []
          },
          "execution_count": 80
        }
      ]
    },
    {
      "cell_type": "code",
      "metadata": {
        "id": "8hpPqBv1i2WX",
        "colab_type": "code",
        "colab": {
          "base_uri": "https://localhost:8080/",
          "height": 111
        },
        "outputId": "3afed656-95c4-4339-cc7c-710d2862ec00"
      },
      "source": [
        "json.loads(tracks.iloc[0, 3])"
      ],
      "execution_count": null,
      "outputs": [
        {
          "output_type": "execute_result",
          "data": {
            "text/plain": [
              "{'MBID': None,\n",
              " 'duration': -1,\n",
              " 'name': '000003+Music+Instructor/_/Dj%27s+Rock+Da+House+%C3%82%E2%89%88%C3%86%E2%89%88%C3%8A01+-+Dj+Max-Pulemet+Vs.+Bomfunk+Mc%27s+-+Electro+Breakdance+party+1+%5B2000%5D+=+CD+ONE%C3%82%E2%89%88%C3%86%E2%89%88%C3%8A',\n",
              " 'playcount': 4}"
            ]
          },
          "metadata": {
            "tags": []
          },
          "execution_count": 94
        }
      ]
    },
    {
      "cell_type": "markdown",
      "metadata": {
        "id": "pgjPPLwSVDoe",
        "colab_type": "text"
      },
      "source": [
        "Достанем информацию о каждом треке из исходных данных и сохраним ее в таблицу"
      ]
    },
    {
      "cell_type": "code",
      "metadata": {
        "id": "OYUkvc4DZNOk",
        "colab_type": "code",
        "colab": {}
      },
      "source": [
        "MBID = []\n",
        "duration = []\n",
        "name = []\n",
        "playcount = []\n",
        "for line in tracks.iloc[:, 3]:\n",
        "  dic = json.loads(line)\n",
        "  MBID.append(dic['MBID'])\n",
        "  duration.append(dic['duration'])\n",
        "  name.append(dic['name'])\n",
        "  playcount.append(dic['playcount'])"
      ],
      "execution_count": null,
      "outputs": []
    },
    {
      "cell_type": "code",
      "metadata": {
        "id": "atfG-0tmlqJH",
        "colab_type": "code",
        "colab": {}
      },
      "source": [
        "tracks['MBID'] = MBID\n",
        "tracks['duration'] = duration\n",
        "tracks['name'] = name\n",
        "tracks['playcount'] = playcount"
      ],
      "execution_count": null,
      "outputs": []
    },
    {
      "cell_type": "code",
      "metadata": {
        "id": "0QaIwkSfl6mu",
        "colab_type": "code",
        "colab": {
          "base_uri": "https://localhost:8080/",
          "height": 293
        },
        "outputId": "73341902-1105-4244-da50-8820d605834f"
      },
      "source": [
        "tracks.head()"
      ],
      "execution_count": null,
      "outputs": [
        {
          "output_type": "execute_result",
          "data": {
            "text/html": [
              "<div>\n",
              "<style scoped>\n",
              "    .dataframe tbody tr th:only-of-type {\n",
              "        vertical-align: middle;\n",
              "    }\n",
              "\n",
              "    .dataframe tbody tr th {\n",
              "        vertical-align: top;\n",
              "    }\n",
              "\n",
              "    .dataframe thead th {\n",
              "        text-align: right;\n",
              "    }\n",
              "</style>\n",
              "<table border=\"1\" class=\"dataframe\">\n",
              "  <thead>\n",
              "    <tr style=\"text-align: right;\">\n",
              "      <th></th>\n",
              "      <th>0</th>\n",
              "      <th>1</th>\n",
              "      <th>2</th>\n",
              "      <th>3</th>\n",
              "      <th>4</th>\n",
              "      <th>MBID</th>\n",
              "      <th>duration</th>\n",
              "      <th>name</th>\n",
              "      <th>playcount</th>\n",
              "    </tr>\n",
              "  </thead>\n",
              "  <tbody>\n",
              "    <tr>\n",
              "      <th>0</th>\n",
              "      <td>track</td>\n",
              "      <td>0</td>\n",
              "      <td>-1</td>\n",
              "      <td>{\"duration\":-1,\"playcount\":4,\"MBID\":null,\"name...</td>\n",
              "      <td>{\"artists\":[{\"type\":\"person\",\"id\":0}],\"albums\"...</td>\n",
              "      <td>None</td>\n",
              "      <td>-1.0</td>\n",
              "      <td>000003+Music+Instructor/_/Dj%27s+Rock+Da+House...</td>\n",
              "      <td>4.0</td>\n",
              "    </tr>\n",
              "    <tr>\n",
              "      <th>1</th>\n",
              "      <td>track</td>\n",
              "      <td>1</td>\n",
              "      <td>-1</td>\n",
              "      <td>{\"duration\":-1,\"playcount\":495,\"MBID\":null,\"na...</td>\n",
              "      <td>{\"artists\":[{\"type\":\"person\",\"id\":1}],\"albums\"...</td>\n",
              "      <td>None</td>\n",
              "      <td>-1.0</td>\n",
              "      <td>00-01/_/%D0%A2%D0%B5%D0%BA%D1%81%D1%82</td>\n",
              "      <td>495.0</td>\n",
              "    </tr>\n",
              "    <tr>\n",
              "      <th>2</th>\n",
              "      <td>track</td>\n",
              "      <td>2</td>\n",
              "      <td>-1</td>\n",
              "      <td>{\"duration\":-1,\"playcount\":2,\"MBID\":null,\"name...</td>\n",
              "      <td>{\"artists\":[{\"type\":\"person\",\"id\":2}],\"albums\"...</td>\n",
              "      <td>None</td>\n",
              "      <td>-1.0</td>\n",
              "      <td>0005.+Overkill/_/Overkill</td>\n",
              "      <td>2.0</td>\n",
              "    </tr>\n",
              "    <tr>\n",
              "      <th>3</th>\n",
              "      <td>track</td>\n",
              "      <td>3</td>\n",
              "      <td>-1</td>\n",
              "      <td>{\"duration\":-1,\"playcount\":2,\"MBID\":null,\"name...</td>\n",
              "      <td>{\"artists\":[{\"type\":\"person\",\"id\":3}],\"albums\"...</td>\n",
              "      <td>None</td>\n",
              "      <td>-1.0</td>\n",
              "      <td>000C+Tony+Dize/_/Ruleta+Rusa</td>\n",
              "      <td>2.0</td>\n",
              "    </tr>\n",
              "    <tr>\n",
              "      <th>4</th>\n",
              "      <td>track</td>\n",
              "      <td>4</td>\n",
              "      <td>-1</td>\n",
              "      <td>{\"duration\":-1,\"playcount\":1,\"MBID\":null,\"name...</td>\n",
              "      <td>{\"artists\":[{\"type\":\"person\",\"id\":4}],\"albums\"...</td>\n",
              "      <td>None</td>\n",
              "      <td>-1.0</td>\n",
              "      <td>000+Oscarcito/_/Tumbay%E2%80%9A+(Lyrics)</td>\n",
              "      <td>1.0</td>\n",
              "    </tr>\n",
              "  </tbody>\n",
              "</table>\n",
              "</div>"
            ],
            "text/plain": [
              "       0  1  ...                                               name playcount\n",
              "0  track  0  ...  000003+Music+Instructor/_/Dj%27s+Rock+Da+House...       4.0\n",
              "1  track  1  ...             00-01/_/%D0%A2%D0%B5%D0%BA%D1%81%D1%82     495.0\n",
              "2  track  2  ...                          0005.+Overkill/_/Overkill       2.0\n",
              "3  track  3  ...                       000C+Tony+Dize/_/Ruleta+Rusa       2.0\n",
              "4  track  4  ...           000+Oscarcito/_/Tumbay%E2%80%9A+(Lyrics)       1.0\n",
              "\n",
              "[5 rows x 9 columns]"
            ]
          },
          "metadata": {
            "tags": []
          },
          "execution_count": 97
        }
      ]
    },
    {
      "cell_type": "code",
      "metadata": {
        "id": "uYa3Zt1dZfSL",
        "colab_type": "code",
        "colab": {}
      },
      "source": [
        "albums = []\n",
        "artiscts_id = []\n",
        "artists_type = []\n",
        "tags = []\n",
        "for line in tracks.iloc[:, 4]:\n",
        "  dic = json.loads(line)\n",
        "  albums.append(dic['albums'])\n",
        "  artists = dic['artists'][0]\n",
        "  artists_id.append(artists['id'])\n",
        "  artists_type.append(artists['type'])\n",
        "  tags.append(dic['tags'])"
      ],
      "execution_count": null,
      "outputs": []
    },
    {
      "cell_type": "code",
      "metadata": {
        "id": "pWl1V3GWnokA",
        "colab_type": "code",
        "colab": {}
      },
      "source": [
        "tracks['albums'] = albums\n",
        "tracks['artists_id'] = artists_id\n",
        "tracks['artists_type'] = artists_type\n",
        "tracks['tags'] = tags"
      ],
      "execution_count": null,
      "outputs": []
    },
    {
      "cell_type": "code",
      "metadata": {
        "id": "P7JzszRmZj7k",
        "colab_type": "code",
        "colab": {
          "base_uri": "https://localhost:8080/",
          "height": 313
        },
        "outputId": "691898b2-0a68-4422-9558-33fa7419d1c4"
      },
      "source": [
        "tracks.info()"
      ],
      "execution_count": null,
      "outputs": [
        {
          "output_type": "stream",
          "text": [
            "<class 'pandas.core.frame.DataFrame'>\n",
            "RangeIndex: 5675143 entries, 0 to 5675142\n",
            "Data columns (total 9 columns):\n",
            " #   Column        Dtype  \n",
            "---  ------        -----  \n",
            " 0   1             int64  \n",
            " 1   MBID          object \n",
            " 2   duration      float64\n",
            " 3   name          object \n",
            " 4   playcount     float64\n",
            " 5   albums        object \n",
            " 6   artists_id    int64  \n",
            " 7   artists_type  object \n",
            " 8   tags          object \n",
            "dtypes: float64(2), int64(2), object(5)\n",
            "memory usage: 389.7+ MB\n"
          ],
          "name": "stdout"
        }
      ]
    },
    {
      "cell_type": "markdown",
      "metadata": {
        "id": "StdCs5QqVXMk",
        "colab_type": "text"
      },
      "source": [
        "Удалим дублирующую информацию и сохраним"
      ]
    },
    {
      "cell_type": "code",
      "metadata": {
        "id": "P0h5tFrSdAjd",
        "colab_type": "code",
        "colab": {}
      },
      "source": [
        "tracks = tracks.drop([0, 2, 3, 4], axis = 1)"
      ],
      "execution_count": null,
      "outputs": []
    },
    {
      "cell_type": "code",
      "metadata": {
        "id": "j7HGiqkKtX49",
        "colab_type": "code",
        "colab": {
          "base_uri": "https://localhost:8080/",
          "height": 54
        },
        "outputId": "4c28bc81-3339-40ff-da43-d157db518afc"
      },
      "source": [
        "tracks.iloc[:, 0].value_counts()"
      ],
      "execution_count": null,
      "outputs": [
        {
          "output_type": "execute_result",
          "data": {
            "text/plain": [
              "track    5675143\n",
              "Name: 0, dtype: int64"
            ]
          },
          "metadata": {
            "tags": []
          },
          "execution_count": 137
        }
      ]
    },
    {
      "cell_type": "code",
      "metadata": {
        "id": "Nsv-2q4ZthJL",
        "colab_type": "code",
        "colab": {}
      },
      "source": [
        "tracks.to_csv('tracks.csv', index = False)"
      ],
      "execution_count": null,
      "outputs": []
    },
    {
      "cell_type": "code",
      "metadata": {
        "id": "leghQ9srwEHQ",
        "colab_type": "code",
        "colab": {}
      },
      "source": [
        ""
      ],
      "execution_count": null,
      "outputs": []
    }
  ]
}