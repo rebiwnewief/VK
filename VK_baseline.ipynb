{
 "cells": [
  {
   "cell_type": "code",
   "execution_count": 1,
   "metadata": {
    "colab": {},
    "colab_type": "code",
    "id": "ktn3fHPEMlJn"
   },
   "outputs": [],
   "source": [
    "import pandas as pd\n",
    "import numpy as np\n",
    "import json"
   ]
  },
  {
   "cell_type": "code",
   "execution_count": null,
   "metadata": {
    "colab": {
     "base_uri": "https://localhost:8080/",
     "height": 74
    },
    "colab_type": "code",
    "id": "XyKbhGF7MuHD",
    "outputId": "9d23ce01-8293-4248-b03a-2afb98f2d42b"
   },
   "outputs": [],
   "source": [
    "sessions = pd.read_csv('sessions.csv', index_col=1)"
   ]
  },
  {
   "cell_type": "markdown",
   "metadata": {},
   "source": [
    "Получим распределение количества треков у каждого пользователя"
   ]
  },
  {
   "cell_type": "code",
   "execution_count": null,
   "metadata": {
    "colab": {},
    "colab_type": "code",
    "id": "Iu73TlDCYwki"
   },
   "outputs": [],
   "source": [
    "count_play = {}\n",
    "for i, line in sessions.iloc[:,1].iteritems():\n",
    "  spt = line.split()\n",
    "  count_play[i] = json.loads(spt[0])['numtracks']\n"
   ]
  },
  {
   "cell_type": "code",
   "execution_count": null,
   "metadata": {
    "colab": {
     "base_uri": "https://localhost:8080/",
     "height": 283
    },
    "colab_type": "code",
    "id": "Q-x2X9ovgKP3",
    "outputId": "0836ace6-88e5-4181-a02f-fe08324b3c41"
   },
   "outputs": [
    {
     "data": {
      "text/plain": [
       "<matplotlib.axes._subplots.AxesSubplot at 0x7f622716f358>"
      ]
     },
     "execution_count": 30,
     "metadata": {
      "tags": []
     },
     "output_type": "execute_result"
    },
    {
     "data": {
      "image/png": "[encoded data removed]",
      "text/plain": [
       "<Figure size 432x288 with 1 Axes>"
      ]
     },
     "metadata": {
      "needs_background": "light",
      "tags": []
     },
     "output_type": "display_data"
    }
   ],
   "source": [
    "import seaborn as sns\n",
    "import matplotlib.pyplot as plt\n",
    "sns.distplot(list(count_play.values()))\n",
    "#plt.xlim(0,30000)"
   ]
  },
  {
   "cell_type": "code",
   "execution_count": null,
   "metadata": {
    "colab": {
     "base_uri": "https://localhost:8080/",
     "height": 35
    },
    "colab_type": "code",
    "id": "o3VKJCO0YwrC",
    "outputId": "d7f430c0-b815-4e63-d07b-1a4d6051a378"
   },
   "outputs": [
    {
     "data": {
      "text/plain": [
       "39.0"
      ]
     },
     "execution_count": 31,
     "metadata": {
      "tags": []
     },
     "output_type": "execute_result"
    }
   ],
   "source": [
    "np.percentile(list(count_play.values()), 95)"
   ]
  },
  {
   "cell_type": "markdown",
   "metadata": {},
   "source": [
    "можно ограничится только 40 треками"
   ]
  },
  {
   "cell_type": "code",
   "execution_count": null,
   "metadata": {
    "colab": {},
    "colab_type": "code",
    "id": "6Mh627skQtNl"
   },
   "outputs": [],
   "source": [
    "sessions = sessions.drop(columns=['0'], axis = 1)"
   ]
  },
  {
   "cell_type": "code",
   "execution_count": null,
   "metadata": {
    "colab": {
     "base_uri": "https://localhost:8080/",
     "height": 238
    },
    "colab_type": "code",
    "id": "v4i9myhvP1gM",
    "outputId": "6825f69f-3216-4773-d341-4730a500403f"
   },
   "outputs": [
    {
     "data": {
      "text/html": [
       "<div>\n",
       "<style scoped>\n",
       "    .dataframe tbody tr th:only-of-type {\n",
       "        vertical-align: middle;\n",
       "    }\n",
       "\n",
       "    .dataframe tbody tr th {\n",
       "        vertical-align: top;\n",
       "    }\n",
       "\n",
       "    .dataframe thead th {\n",
       "        text-align: right;\n",
       "    }\n",
       "</style>\n",
       "<table border=\"1\" class=\"dataframe\">\n",
       "  <thead>\n",
       "    <tr style=\"text-align: right;\">\n",
       "      <th></th>\n",
       "      <th>2</th>\n",
       "      <th>3</th>\n",
       "    </tr>\n",
       "    <tr>\n",
       "      <th>1</th>\n",
       "      <th></th>\n",
       "      <th></th>\n",
       "    </tr>\n",
       "  </thead>\n",
       "  <tbody>\n",
       "    <tr>\n",
       "      <th>287144</th>\n",
       "      <td>1390231051</td>\n",
       "      <td>{\"numtracks\":23,\"playtime\":4547} {\"subjects\":[...</td>\n",
       "    </tr>\n",
       "    <tr>\n",
       "      <th>287145</th>\n",
       "      <td>1390241844</td>\n",
       "      <td>{\"numtracks\":11,\"playtime\":2907} {\"subjects\":[...</td>\n",
       "    </tr>\n",
       "    <tr>\n",
       "      <th>287146</th>\n",
       "      <td>1390303249</td>\n",
       "      <td>{\"numtracks\":16,\"playtime\":3191} {\"subjects\":[...</td>\n",
       "    </tr>\n",
       "    <tr>\n",
       "      <th>287147</th>\n",
       "      <td>1390481828</td>\n",
       "      <td>{\"numtracks\":5,\"playtime\":1162} {\"subjects\":[{...</td>\n",
       "    </tr>\n",
       "    <tr>\n",
       "      <th>287140</th>\n",
       "      <td>1421443687</td>\n",
       "      <td>{\"numtracks\":2,\"playtime\":250} {\"subjects\":[{\"...</td>\n",
       "    </tr>\n",
       "  </tbody>\n",
       "</table>\n",
       "</div>"
      ],
      "text/plain": [
       "                 2                                                  3\n",
       "1                                                                    \n",
       "287144  1390231051  {\"numtracks\":23,\"playtime\":4547} {\"subjects\":[...\n",
       "287145  1390241844  {\"numtracks\":11,\"playtime\":2907} {\"subjects\":[...\n",
       "287146  1390303249  {\"numtracks\":16,\"playtime\":3191} {\"subjects\":[...\n",
       "287147  1390481828  {\"numtracks\":5,\"playtime\":1162} {\"subjects\":[{...\n",
       "287140  1421443687  {\"numtracks\":2,\"playtime\":250} {\"subjects\":[{\"..."
      ]
     },
     "execution_count": 62,
     "metadata": {
      "tags": []
     },
     "output_type": "execute_result"
    }
   ],
   "source": [
    "sessions.head()"
   ]
  },
  {
   "cell_type": "code",
   "execution_count": null,
   "metadata": {
    "colab": {},
    "colab_type": "code",
    "id": "P5JjCjAlcA9u"
   },
   "outputs": [],
   "source": [
    "from tqdm import tqdm, tqdm_notebook"
   ]
  },
  {
   "cell_type": "markdown",
   "metadata": {},
   "source": [
    "Получим информацию о id пользователя, номере эвента, сессии, id трека и количестве прослушиваний"
   ]
  },
  {
   "cell_type": "code",
   "execution_count": null,
   "metadata": {
    "colab": {
     "base_uri": "https://localhost:8080/",
     "height": 35
    },
    "colab_type": "code",
    "id": "oeADcqo8sYwO",
    "outputId": "352dbc9b-5dd5-43ba-fde1-990e89401edd"
   },
   "outputs": [
    {
     "name": "stderr",
     "output_type": "stream",
     "text": [
      "2764474it [08:56, 5156.13it/s]\n"
     ]
    }
   ],
   "source": [
    "user_id = []\n",
    "event = []\n",
    "session = []\n",
    "track_id = []\n",
    "playtime = []\n",
    "for i, line in tqdm(sessions.iterrows()):\n",
    "  spt = line[1].split()\n",
    "  numtracks = json.loads(spt[0])['numtracks']\n",
    "  if numtracks < 40:\n",
    "    session.extend([line[0]] * numtracks)\n",
    "    event.extend([i] * numtracks)\n",
    "    user_id.extend([json.loads(spt[1])['subjects'][0]['id']] * numtracks)\n",
    "    \n",
    "    for obj in json.loads(spt[1])[\"objects\"]:\n",
    "      track_id.append(obj['id'])\n",
    "      playtime.append(obj['playtime'])"
   ]
  },
  {
   "cell_type": "code",
   "execution_count": null,
   "metadata": {
    "colab": {},
    "colab_type": "code",
    "id": "IilUpdRrChIA"
   },
   "outputs": [],
   "source": [
    "sessions = pd.DataFrame(zip(user_id, session, event, track_id, playtime), columns = ['user_id', 'session', 'event', 'track_id', 'playtime'])"
   ]
  },
  {
   "cell_type": "code",
   "execution_count": null,
   "metadata": {
    "colab": {
     "base_uri": "https://localhost:8080/",
     "height": 206
    },
    "colab_type": "code",
    "id": "sRMMi75N5mxt",
    "outputId": "42766c75-bef7-4446-e28b-1b2a08c8b91a"
   },
   "outputs": [
    {
     "data": {
      "text/html": [
       "<div>\n",
       "<style scoped>\n",
       "    .dataframe tbody tr th:only-of-type {\n",
       "        vertical-align: middle;\n",
       "    }\n",
       "\n",
       "    .dataframe tbody tr th {\n",
       "        vertical-align: top;\n",
       "    }\n",
       "\n",
       "    .dataframe thead th {\n",
       "        text-align: right;\n",
       "    }\n",
       "</style>\n",
       "<table border=\"1\" class=\"dataframe\">\n",
       "  <thead>\n",
       "    <tr style=\"text-align: right;\">\n",
       "      <th></th>\n",
       "      <th>user_id</th>\n",
       "      <th>session</th>\n",
       "      <th>event</th>\n",
       "      <th>track_id</th>\n",
       "      <th>playtime</th>\n",
       "    </tr>\n",
       "  </thead>\n",
       "  <tbody>\n",
       "    <tr>\n",
       "      <th>0</th>\n",
       "      <td>44361</td>\n",
       "      <td>1390231051</td>\n",
       "      <td>287144</td>\n",
       "      <td>4698874</td>\n",
       "      <td>58</td>\n",
       "    </tr>\n",
       "    <tr>\n",
       "      <th>1</th>\n",
       "      <td>44361</td>\n",
       "      <td>1390231051</td>\n",
       "      <td>287144</td>\n",
       "      <td>838286</td>\n",
       "      <td>310</td>\n",
       "    </tr>\n",
       "    <tr>\n",
       "      <th>2</th>\n",
       "      <td>44361</td>\n",
       "      <td>1390231051</td>\n",
       "      <td>287144</td>\n",
       "      <td>2588097</td>\n",
       "      <td>179</td>\n",
       "    </tr>\n",
       "    <tr>\n",
       "      <th>3</th>\n",
       "      <td>44361</td>\n",
       "      <td>1390231051</td>\n",
       "      <td>287144</td>\n",
       "      <td>2746740</td>\n",
       "      <td>342</td>\n",
       "    </tr>\n",
       "    <tr>\n",
       "      <th>4</th>\n",
       "      <td>44361</td>\n",
       "      <td>1390231051</td>\n",
       "      <td>287144</td>\n",
       "      <td>3873988</td>\n",
       "      <td>259</td>\n",
       "    </tr>\n",
       "  </tbody>\n",
       "</table>\n",
       "</div>"
      ],
      "text/plain": [
       "   user_id     session   event  track_id  playtime\n",
       "0    44361  1390231051  287144   4698874        58\n",
       "1    44361  1390231051  287144    838286       310\n",
       "2    44361  1390231051  287144   2588097       179\n",
       "3    44361  1390231051  287144   2746740       342\n",
       "4    44361  1390231051  287144   3873988       259"
      ]
     },
     "execution_count": 8,
     "metadata": {
      "tags": []
     },
     "output_type": "execute_result"
    }
   ],
   "source": [
    "sessions.head()"
   ]
  },
  {
   "cell_type": "code",
   "execution_count": null,
   "metadata": {
    "colab": {
     "base_uri": "https://localhost:8080/",
     "height": 35
    },
    "colab_type": "code",
    "id": "9D5ERHlLLNVz",
    "outputId": "199ee67b-7be1-4d4d-afab-179cac6f6f51"
   },
   "outputs": [
    {
     "data": {
      "text/plain": [
       "(21217009, 4)"
      ]
     },
     "execution_count": 33,
     "metadata": {
      "tags": []
     },
     "output_type": "execute_result"
    }
   ],
   "source": [
    "sessions.shape"
   ]
  },
  {
   "cell_type": "markdown",
   "metadata": {},
   "source": [
    "Сохраним все"
   ]
  },
  {
   "cell_type": "code",
   "execution_count": null,
   "metadata": {
    "colab": {},
    "colab_type": "code",
    "id": "SK8ag60Z_qEa"
   },
   "outputs": [],
   "source": [
    "sessions.to_csv('new_sessions.csv', index = False)"
   ]
  },
  {
   "cell_type": "code",
   "execution_count": null,
   "metadata": {
    "colab": {},
    "colab_type": "code",
    "id": "wXvZXlYMMDd1"
   },
   "outputs": [],
   "source": [
    "sessions = pd.read_csv('new_sessions.csv')"
   ]
  },
  {
   "cell_type": "markdown",
   "metadata": {},
   "source": [
    "Так как после различных проб использование сессиии и эвент оказалось бесполезным, их необходимо удалить"
   ]
  },
  {
   "cell_type": "code",
   "execution_count": null,
   "metadata": {
    "colab": {},
    "colab_type": "code",
    "id": "N2OrPWOb_Nv6"
   },
   "outputs": [],
   "source": [
    "sessions = sessions.drop(['event', 'session'], axis = 1)"
   ]
  },
  {
   "cell_type": "code",
   "execution_count": null,
   "metadata": {
    "colab": {
     "base_uri": "https://localhost:8080/",
     "height": 206
    },
    "colab_type": "code",
    "id": "gHCrTJD_MHRk",
    "outputId": "53fa4005-e78a-420b-f870-210a248a7be6"
   },
   "outputs": [
    {
     "data": {
      "text/html": [
       "<div>\n",
       "<style scoped>\n",
       "    .dataframe tbody tr th:only-of-type {\n",
       "        vertical-align: middle;\n",
       "    }\n",
       "\n",
       "    .dataframe tbody tr th {\n",
       "        vertical-align: top;\n",
       "    }\n",
       "\n",
       "    .dataframe thead th {\n",
       "        text-align: right;\n",
       "    }\n",
       "</style>\n",
       "<table border=\"1\" class=\"dataframe\">\n",
       "  <thead>\n",
       "    <tr style=\"text-align: right;\">\n",
       "      <th></th>\n",
       "      <th>user_id</th>\n",
       "      <th>track_id</th>\n",
       "      <th>playtime</th>\n",
       "    </tr>\n",
       "  </thead>\n",
       "  <tbody>\n",
       "    <tr>\n",
       "      <th>0</th>\n",
       "      <td>44361</td>\n",
       "      <td>4698874</td>\n",
       "      <td>58</td>\n",
       "    </tr>\n",
       "    <tr>\n",
       "      <th>1</th>\n",
       "      <td>44361</td>\n",
       "      <td>838286</td>\n",
       "      <td>310</td>\n",
       "    </tr>\n",
       "    <tr>\n",
       "      <th>2</th>\n",
       "      <td>44361</td>\n",
       "      <td>2588097</td>\n",
       "      <td>179</td>\n",
       "    </tr>\n",
       "    <tr>\n",
       "      <th>3</th>\n",
       "      <td>44361</td>\n",
       "      <td>2746740</td>\n",
       "      <td>342</td>\n",
       "    </tr>\n",
       "    <tr>\n",
       "      <th>4</th>\n",
       "      <td>44361</td>\n",
       "      <td>3873988</td>\n",
       "      <td>259</td>\n",
       "    </tr>\n",
       "  </tbody>\n",
       "</table>\n",
       "</div>"
      ],
      "text/plain": [
       "   user_id  track_id  playtime\n",
       "0    44361   4698874        58\n",
       "1    44361    838286       310\n",
       "2    44361   2588097       179\n",
       "3    44361   2746740       342\n",
       "4    44361   3873988       259"
      ]
     },
     "execution_count": 32,
     "metadata": {
      "tags": []
     },
     "output_type": "execute_result"
    }
   ],
   "source": [
    "sessions.head()"
   ]
  },
  {
   "cell_type": "markdown",
   "metadata": {},
   "source": [
    "Так как для каждой сессии есть повторяющиеся треки, то нужно посчитать общее количество прослушиваний "
   ]
  },
  {
   "cell_type": "code",
   "execution_count": null,
   "metadata": {
    "colab": {},
    "colab_type": "code",
    "id": "ES7VIwFTuV3R"
   },
   "outputs": [],
   "source": [
    "trans = sessions.groupby(['user_id','track_id'])['playtime'].transform('sum')\n",
    "sessions['playtime'] = trans"
   ]
  },
  {
   "cell_type": "code",
   "execution_count": null,
   "metadata": {
    "colab": {},
    "colab_type": "code",
    "id": "EEI0_Z7Uwnw5"
   },
   "outputs": [],
   "source": [
    "trans = sessions.groupby(by = 'user_id')['track_id'].apply(pd.Series.drop_duplicates)"
   ]
  },
  {
   "cell_type": "code",
   "execution_count": null,
   "metadata": {
    "colab": {
     "base_uri": "https://localhost:8080/",
     "height": 146
    },
    "colab_type": "code",
    "id": "n3xpA2dE3Hz1",
    "outputId": "06f9c36c-5e0d-4de5-8eb1-9d6fa7d52497"
   },
   "outputs": [
    {
     "data": {
      "text/plain": [
       "user_id        \n",
       "1        867353    3327773\n",
       "         867354      82832\n",
       "         867355    1559353\n",
       "         867356    1558953\n",
       "         867357    1559198\n",
       "Name: track_id, dtype: int64"
      ]
     },
     "execution_count": 107,
     "metadata": {
      "tags": []
     },
     "output_type": "execute_result"
    }
   ],
   "source": [
    "trans.head()"
   ]
  },
  {
   "cell_type": "code",
   "execution_count": null,
   "metadata": {
    "colab": {},
    "colab_type": "code",
    "id": "dY8EMr8j46kx"
   },
   "outputs": [],
   "source": [
    "true_ind = [ind[1] for ind in trans.index]"
   ]
  },
  {
   "cell_type": "code",
   "execution_count": null,
   "metadata": {
    "colab": {},
    "colab_type": "code",
    "id": "QhuQSmfY5w-6"
   },
   "outputs": [],
   "source": [
    "no_dupl = sessions.loc[true_ind]"
   ]
  },
  {
   "cell_type": "code",
   "execution_count": null,
   "metadata": {
    "colab": {},
    "colab_type": "code",
    "id": "Ro91ZFWLMeip"
   },
   "outputs": [],
   "source": [
    "no_dupl.to_csv('no_dupl.csv', index = False)"
   ]
  },
  {
   "cell_type": "code",
   "execution_count": null,
   "metadata": {
    "colab": {},
    "colab_type": "code",
    "id": "BK7rHWizBw5A"
   },
   "outputs": [],
   "source": [
    "sessions = pd.read_csv('no_dupl.csv')"
   ]
  },
  {
   "cell_type": "code",
   "execution_count": null,
   "metadata": {
    "colab": {
     "base_uri": "https://localhost:8080/",
     "height": 74
    },
    "colab_type": "code",
    "id": "dlq0eVThUacS",
    "outputId": "bdd6d351-b3ca-46ad-9175-08eff28d4d01"
   },
   "outputs": [
    {
     "name": "stderr",
     "output_type": "stream",
     "text": [
      "/usr/local/lib/python3.6/dist-packages/IPython/core/interactiveshell.py:2718: DtypeWarning: Columns (1,5,8) have mixed types.Specify dtype option on import or set low_memory=False.\n",
      "  interactivity=interactivity, compiler=compiler, result=result)\n"
     ]
    }
   ],
   "source": [
    "tracks = pd.read_csv('tracks.csv')"
   ]
  },
  {
   "cell_type": "code",
   "execution_count": null,
   "metadata": {
    "colab": {},
    "colab_type": "code",
    "id": "VcPpemfYH1UA"
   },
   "outputs": [],
   "source": [
    "tracks = tracks.rename(columns={'1':'track_id'}) "
   ]
  },
  {
   "cell_type": "code",
   "execution_count": null,
   "metadata": {
    "colab": {
     "base_uri": "https://localhost:8080/",
     "height": 206
    },
    "colab_type": "code",
    "id": "IRnqoJekEIdB",
    "outputId": "a194bf68-ff80-436a-803d-723f82fa300f"
   },
   "outputs": [
    {
     "data": {
      "text/html": [
       "<div>\n",
       "<style scoped>\n",
       "    .dataframe tbody tr th:only-of-type {\n",
       "        vertical-align: middle;\n",
       "    }\n",
       "\n",
       "    .dataframe tbody tr th {\n",
       "        vertical-align: top;\n",
       "    }\n",
       "\n",
       "    .dataframe thead th {\n",
       "        text-align: right;\n",
       "    }\n",
       "</style>\n",
       "<table border=\"1\" class=\"dataframe\">\n",
       "  <thead>\n",
       "    <tr style=\"text-align: right;\">\n",
       "      <th></th>\n",
       "      <th>track_id</th>\n",
       "      <th>MBID</th>\n",
       "      <th>duration</th>\n",
       "      <th>name</th>\n",
       "      <th>playcount</th>\n",
       "      <th>albums</th>\n",
       "      <th>artists_id</th>\n",
       "      <th>artists_type</th>\n",
       "      <th>tags</th>\n",
       "    </tr>\n",
       "  </thead>\n",
       "  <tbody>\n",
       "    <tr>\n",
       "      <th>0</th>\n",
       "      <td>0</td>\n",
       "      <td>NaN</td>\n",
       "      <td>-1.0</td>\n",
       "      <td>000003+Music+Instructor/_/Dj%27s+Rock+Da+House...</td>\n",
       "      <td>4.0</td>\n",
       "      <td>[]</td>\n",
       "      <td>0</td>\n",
       "      <td>person</td>\n",
       "      <td>[]</td>\n",
       "    </tr>\n",
       "    <tr>\n",
       "      <th>1</th>\n",
       "      <td>1</td>\n",
       "      <td>NaN</td>\n",
       "      <td>-1.0</td>\n",
       "      <td>00-01/_/%D0%A2%D0%B5%D0%BA%D1%81%D1%82</td>\n",
       "      <td>495.0</td>\n",
       "      <td>[]</td>\n",
       "      <td>1</td>\n",
       "      <td>person</td>\n",
       "      <td>[]</td>\n",
       "    </tr>\n",
       "    <tr>\n",
       "      <th>2</th>\n",
       "      <td>2</td>\n",
       "      <td>NaN</td>\n",
       "      <td>-1.0</td>\n",
       "      <td>0005.+Overkill/_/Overkill</td>\n",
       "      <td>2.0</td>\n",
       "      <td>[]</td>\n",
       "      <td>2</td>\n",
       "      <td>person</td>\n",
       "      <td>[]</td>\n",
       "    </tr>\n",
       "    <tr>\n",
       "      <th>3</th>\n",
       "      <td>3</td>\n",
       "      <td>NaN</td>\n",
       "      <td>-1.0</td>\n",
       "      <td>000C+Tony+Dize/_/Ruleta+Rusa</td>\n",
       "      <td>2.0</td>\n",
       "      <td>[]</td>\n",
       "      <td>3</td>\n",
       "      <td>person</td>\n",
       "      <td>[]</td>\n",
       "    </tr>\n",
       "    <tr>\n",
       "      <th>4</th>\n",
       "      <td>4</td>\n",
       "      <td>NaN</td>\n",
       "      <td>-1.0</td>\n",
       "      <td>000+Oscarcito/_/Tumbay%E2%80%9A+(Lyrics)</td>\n",
       "      <td>1.0</td>\n",
       "      <td>[]</td>\n",
       "      <td>4</td>\n",
       "      <td>person</td>\n",
       "      <td>[]</td>\n",
       "    </tr>\n",
       "  </tbody>\n",
       "</table>\n",
       "</div>"
      ],
      "text/plain": [
       "   track_id MBID  duration  ... artists_id  artists_type tags\n",
       "0         0  NaN      -1.0  ...          0        person   []\n",
       "1         1  NaN      -1.0  ...          1        person   []\n",
       "2         2  NaN      -1.0  ...          2        person   []\n",
       "3         3  NaN      -1.0  ...          3        person   []\n",
       "4         4  NaN      -1.0  ...          4        person   []\n",
       "\n",
       "[5 rows x 9 columns]"
      ]
     },
     "execution_count": 5,
     "metadata": {
      "tags": []
     },
     "output_type": "execute_result"
    }
   ],
   "source": [
    "tracks.head()"
   ]
  },
  {
   "cell_type": "markdown",
   "metadata": {},
   "source": [
    "Теги тоже не было понятно, как использовать, так что они были удалены"
   ]
  },
  {
   "cell_type": "code",
   "execution_count": null,
   "metadata": {
    "colab": {
     "base_uri": "https://localhost:8080/",
     "height": 259
    },
    "colab_type": "code",
    "id": "ZiA43KwjlbUq",
    "outputId": "113832ce-54db-4269-a988-90ffbdd4446b"
   },
   "outputs": [
    {
     "data": {
      "text/plain": [
       "[]                                                                                                                                                             2724881\n",
       "[{'type': 'tag', 'id': 205245}]                                                                                                                                   6720\n",
       "[{'type': 'tag', 'id': 122769}]                                                                                                                                   4628\n",
       "[{'type': 'tag', 'id': 83064}]                                                                                                                                    4370\n",
       "[{'type': 'tag', 'id': 189631}]                                                                                                                                   3503\n",
       "                                                                                                                                                                ...   \n",
       "[{'type': 'tag', 'id': 136980}, {'type': 'tag', 'id': 238375}, {'type': 'tag', 'id': 238385}]                                                                        1\n",
       "[{'type': 'tag', 'id': 117167}, {'type': 'tag', 'id': 105199}, {'type': 'tag', 'id': 96169}, {'type': 'tag', 'id': 73582}, {'type': 'tag', 'id': 6103}]              1\n",
       "[{'type': 'tag', 'id': 204710}, {'type': 'tag', 'id': 168889}, {'type': 'tag', 'id': 164133}, {'type': 'tag', 'id': 226723}, {'type': 'tag', 'id': 107401}]          1\n",
       "[{'type': 'tag', 'id': 41368}, {'type': 'tag', 'id': 72354}, {'type': 'tag', 'id': 86268}, {'type': 'tag', 'id': 163471}, {'type': 'tag', 'id': 86344}]              1\n",
       "[{'type': 'tag', 'id': 3668}, {'type': 'tag', 'id': 177791}, {'type': 'tag', 'id': 8451}]                                                                            1\n",
       "Name: tags, Length: 1078797, dtype: int64"
      ]
     },
     "execution_count": 25,
     "metadata": {
      "tags": []
     },
     "output_type": "execute_result"
    }
   ],
   "source": [
    "tracks.tags.value_counts()"
   ]
  },
  {
   "cell_type": "markdown",
   "metadata": {},
   "source": [
    "Для каждого трека был поставлен в соответвие автор"
   ]
  },
  {
   "cell_type": "code",
   "execution_count": null,
   "metadata": {
    "colab": {},
    "colab_type": "code",
    "id": "IThgYIRKUfPx"
   },
   "outputs": [],
   "source": [
    "sessions = sessions.merge(tracks[['artists_id', 'track_id']], on = 'track_id')"
   ]
  },
  {
   "cell_type": "code",
   "execution_count": null,
   "metadata": {
    "colab": {},
    "colab_type": "code",
    "id": "zBqOmSJKVRx7"
   },
   "outputs": [],
   "source": [
    "del tracks"
   ]
  },
  {
   "cell_type": "code",
   "execution_count": null,
   "metadata": {
    "colab": {
     "base_uri": "https://localhost:8080/",
     "height": 35
    },
    "colab_type": "code",
    "id": "j9E7c1BHKY-v",
    "outputId": "096cc286-756f-4f6f-dbc6-acecd03d3d92"
   },
   "outputs": [
    {
     "data": {
      "text/plain": [
       "25"
      ]
     },
     "execution_count": 8,
     "metadata": {
      "tags": []
     },
     "output_type": "execute_result"
    }
   ],
   "source": [
    "import gc\n",
    "gc.collect()"
   ]
  },
  {
   "cell_type": "code",
   "execution_count": null,
   "metadata": {
    "colab": {
     "base_uri": "https://localhost:8080/",
     "height": 206
    },
    "colab_type": "code",
    "id": "z2x1H7WKKbGz",
    "outputId": "5026b408-a23b-46e5-cdee-51e2346ec634"
   },
   "outputs": [
    {
     "data": {
      "text/html": [
       "<div>\n",
       "<style scoped>\n",
       "    .dataframe tbody tr th:only-of-type {\n",
       "        vertical-align: middle;\n",
       "    }\n",
       "\n",
       "    .dataframe tbody tr th {\n",
       "        vertical-align: top;\n",
       "    }\n",
       "\n",
       "    .dataframe thead th {\n",
       "        text-align: right;\n",
       "    }\n",
       "</style>\n",
       "<table border=\"1\" class=\"dataframe\">\n",
       "  <thead>\n",
       "    <tr style=\"text-align: right;\">\n",
       "      <th></th>\n",
       "      <th>user_id</th>\n",
       "      <th>track_id</th>\n",
       "      <th>playtime</th>\n",
       "      <th>artists_id</th>\n",
       "    </tr>\n",
       "  </thead>\n",
       "  <tbody>\n",
       "    <tr>\n",
       "      <th>0</th>\n",
       "      <td>1</td>\n",
       "      <td>3327773</td>\n",
       "      <td>285</td>\n",
       "      <td>413070</td>\n",
       "    </tr>\n",
       "    <tr>\n",
       "      <th>1</th>\n",
       "      <td>648</td>\n",
       "      <td>3327773</td>\n",
       "      <td>575</td>\n",
       "      <td>413070</td>\n",
       "    </tr>\n",
       "    <tr>\n",
       "      <th>2</th>\n",
       "      <td>5861</td>\n",
       "      <td>3327773</td>\n",
       "      <td>288</td>\n",
       "      <td>413070</td>\n",
       "    </tr>\n",
       "    <tr>\n",
       "      <th>3</th>\n",
       "      <td>7395</td>\n",
       "      <td>3327773</td>\n",
       "      <td>311</td>\n",
       "      <td>413070</td>\n",
       "    </tr>\n",
       "    <tr>\n",
       "      <th>4</th>\n",
       "      <td>11928</td>\n",
       "      <td>3327773</td>\n",
       "      <td>146</td>\n",
       "      <td>413070</td>\n",
       "    </tr>\n",
       "  </tbody>\n",
       "</table>\n",
       "</div>"
      ],
      "text/plain": [
       "   user_id  track_id  playtime  artists_id\n",
       "0        1   3327773       285      413070\n",
       "1      648   3327773       575      413070\n",
       "2     5861   3327773       288      413070\n",
       "3     7395   3327773       311      413070\n",
       "4    11928   3327773       146      413070"
      ]
     },
     "execution_count": 9,
     "metadata": {
      "tags": []
     },
     "output_type": "execute_result"
    }
   ],
   "source": [
    "sessions.head()"
   ]
  },
  {
   "cell_type": "code",
   "execution_count": null,
   "metadata": {
    "colab": {
     "base_uri": "https://localhost:8080/",
     "height": 35
    },
    "colab_type": "code",
    "id": "VVVh-rfXDhRX",
    "outputId": "feca1795-69db-452f-87d4-1541efc49c58"
   },
   "outputs": [
    {
     "data": {
      "text/plain": [
       "(21327523, 4)"
      ]
     },
     "execution_count": 11,
     "metadata": {
      "tags": []
     },
     "output_type": "execute_result"
    }
   ],
   "source": [
    "sessions.shape"
   ]
  },
  {
   "cell_type": "code",
   "execution_count": null,
   "metadata": {
    "colab": {
     "base_uri": "https://localhost:8080/",
     "height": 109
    },
    "colab_type": "code",
    "id": "8TRS3Y3LMyK4",
    "outputId": "b0962dad-8014-44ea-af7c-4becdb0d471b"
   },
   "outputs": [
    {
     "data": {
      "text/plain": [
       "user_id       0\n",
       "track_id      0\n",
       "playtime      0\n",
       "artists_id    0\n",
       "dtype: int64"
      ]
     },
     "execution_count": 12,
     "metadata": {
      "tags": []
     },
     "output_type": "execute_result"
    }
   ],
   "source": [
    "sessions.isna().sum()"
   ]
  },
  {
   "cell_type": "markdown",
   "metadata": {},
   "source": [
    "Теперь необходимо посчитать общее количество прослушиваний артиста"
   ]
  },
  {
   "cell_type": "code",
   "execution_count": null,
   "metadata": {
    "colab": {},
    "colab_type": "code",
    "id": "8IUdzGkfF-2Y"
   },
   "outputs": [],
   "source": [
    "trans = sessions.groupby(['user_id','artists_id'])['playtime'].transform('sum')\n",
    "sessions['playtime'] = trans\n",
    "trans = sessions.groupby(by = 'user_id')['artists_id'].apply(pd.Series.drop_duplicates)"
   ]
  },
  {
   "cell_type": "code",
   "execution_count": null,
   "metadata": {
    "colab": {},
    "colab_type": "code",
    "id": "DQHoqOG7It3B"
   },
   "outputs": [],
   "source": [
    "true_ind = [ind[1] for ind in trans.index]\n",
    "no_dupl = sessions.loc[true_ind]"
   ]
  },
  {
   "cell_type": "code",
   "execution_count": null,
   "metadata": {
    "colab": {
     "base_uri": "https://localhost:8080/",
     "height": 239
    },
    "colab_type": "code",
    "id": "fkHeBLg4G-Xv",
    "outputId": "7c07c2d6-331c-4622-b11e-70de80323e91"
   },
   "outputs": [
    {
     "data": {
      "text/plain": [
       "48127     1\n",
       "300373    1\n",
       "541011    1\n",
       "541010    1\n",
       "541009    1\n",
       "         ..\n",
       "74413     1\n",
       "120490    1\n",
       "255657    1\n",
       "303781    1\n",
       "237568    1\n",
       "Name: artists_id, Length: 606, dtype: int64"
      ]
     },
     "execution_count": 16,
     "metadata": {
      "tags": []
     },
     "output_type": "execute_result"
    }
   ],
   "source": [
    "no_dupl[no_dupl['user_id'] == 44361]['artists_id'].value_counts()"
   ]
  },
  {
   "cell_type": "code",
   "execution_count": null,
   "metadata": {
    "colab": {},
    "colab_type": "code",
    "id": "wbm8f8-4Tklz"
   },
   "outputs": [],
   "source": [
    "no_dupl.to_csv('new_sessions_wh_tracks.csv', index = False)"
   ]
  },
  {
   "cell_type": "code",
   "execution_count": 8,
   "metadata": {
    "colab": {},
    "colab_type": "code",
    "id": "o2nkJsvEfinQ"
   },
   "outputs": [],
   "source": [
    "sessions = pd.read_csv('new_sessions_wh_tracks.csv')"
   ]
  },
  {
   "cell_type": "code",
   "execution_count": 9,
   "metadata": {
    "colab": {
     "base_uri": "https://localhost:8080/",
     "height": 206
    },
    "colab_type": "code",
    "id": "GhUxixJsfvpK",
    "outputId": "a17b3a6c-e782-42dd-d7f3-31f943af1335"
   },
   "outputs": [
    {
     "data": {
      "text/html": [
       "<div>\n",
       "<style scoped>\n",
       "    .dataframe tbody tr th:only-of-type {\n",
       "        vertical-align: middle;\n",
       "    }\n",
       "\n",
       "    .dataframe tbody tr th {\n",
       "        vertical-align: top;\n",
       "    }\n",
       "\n",
       "    .dataframe thead th {\n",
       "        text-align: right;\n",
       "    }\n",
       "</style>\n",
       "<table border=\"1\" class=\"dataframe\">\n",
       "  <thead>\n",
       "    <tr style=\"text-align: right;\">\n",
       "      <th></th>\n",
       "      <th>user_id</th>\n",
       "      <th>track_id</th>\n",
       "      <th>playtime</th>\n",
       "      <th>artists_id</th>\n",
       "    </tr>\n",
       "  </thead>\n",
       "  <tbody>\n",
       "    <tr>\n",
       "      <th>0</th>\n",
       "      <td>1</td>\n",
       "      <td>3327773</td>\n",
       "      <td>285</td>\n",
       "      <td>413070</td>\n",
       "    </tr>\n",
       "    <tr>\n",
       "      <th>1</th>\n",
       "      <td>1</td>\n",
       "      <td>82832</td>\n",
       "      <td>6350</td>\n",
       "      <td>11467</td>\n",
       "    </tr>\n",
       "    <tr>\n",
       "      <th>2</th>\n",
       "      <td>1</td>\n",
       "      <td>1559353</td>\n",
       "      <td>6105</td>\n",
       "      <td>195697</td>\n",
       "    </tr>\n",
       "    <tr>\n",
       "      <th>3</th>\n",
       "      <td>1</td>\n",
       "      <td>2424490</td>\n",
       "      <td>24486</td>\n",
       "      <td>303270</td>\n",
       "    </tr>\n",
       "    <tr>\n",
       "      <th>4</th>\n",
       "      <td>1</td>\n",
       "      <td>149854</td>\n",
       "      <td>7528</td>\n",
       "      <td>19627</td>\n",
       "    </tr>\n",
       "  </tbody>\n",
       "</table>\n",
       "</div>"
      ],
      "text/plain": [
       "   user_id  track_id  playtime  artists_id\n",
       "0        1   3327773       285      413070\n",
       "1        1     82832      6350       11467\n",
       "2        1   1559353      6105      195697\n",
       "3        1   2424490     24486      303270\n",
       "4        1    149854      7528       19627"
      ]
     },
     "execution_count": 9,
     "metadata": {},
     "output_type": "execute_result"
    }
   ],
   "source": [
    "sessions.head()"
   ]
  },
  {
   "cell_type": "code",
   "execution_count": 10,
   "metadata": {
    "colab": {
     "base_uri": "https://localhost:8080/",
     "height": 35
    },
    "colab_type": "code",
    "id": "9zOY-pApUidH",
    "outputId": "16053c5f-098a-416d-a1e3-37b1574acc42"
   },
   "outputs": [
    {
     "data": {
      "text/plain": [
       "(5002346, 4)"
      ]
     },
     "execution_count": 10,
     "metadata": {},
     "output_type": "execute_result"
    }
   ],
   "source": [
    "sessions.shape"
   ]
  },
  {
   "cell_type": "markdown",
   "metadata": {},
   "source": [
    "Размер таблицы стал слишком большим, необходимо удалить слишком редких артистов"
   ]
  },
  {
   "cell_type": "code",
   "execution_count": 11,
   "metadata": {
    "colab": {
     "base_uri": "https://localhost:8080/",
     "height": 35
    },
    "colab_type": "code",
    "id": "VQpHSUbcWnF4",
    "outputId": "bd6d279e-572f-4434-a56f-bb3904d072e2"
   },
   "outputs": [
    {
     "name": "stdout",
     "output_type": "stream",
     "text": [
      "0.7820220471928309\n"
     ]
    }
   ],
   "source": [
    "artist_playtime = sessions.groupby(by = 'artists_id')['playtime'].apply(sum)\n",
    "artist_playtime = artist_playtime[artist_playtime>0]\n",
    "sorted_artist = artist_playtime.sort_values()\n",
    "print(sorted_artist[-7000:].sum()/sorted_artist.sum())\n",
    "most_famous = sorted_artist[-7000:].index.values"
   ]
  },
  {
   "cell_type": "code",
   "execution_count": 12,
   "metadata": {
    "colab": {},
    "colab_type": "code",
    "id": "TGV_BsFOa1nR"
   },
   "outputs": [],
   "source": [
    "sessions = sessions[sessions['artists_id'].isin(most_famous)]"
   ]
  },
  {
   "cell_type": "code",
   "execution_count": 13,
   "metadata": {
    "colab": {
     "base_uri": "https://localhost:8080/",
     "height": 35
    },
    "colab_type": "code",
    "id": "qXogrp8pbYCU",
    "outputId": "ccc5b04f-a0b6-4712-d3ae-0748702184fb"
   },
   "outputs": [
    {
     "data": {
      "text/plain": [
       "(2912767, 4)"
      ]
     },
     "execution_count": 13,
     "metadata": {},
     "output_type": "execute_result"
    }
   ],
   "source": [
    "sessions.shape"
   ]
  },
  {
   "cell_type": "code",
   "execution_count": 14,
   "metadata": {},
   "outputs": [],
   "source": [
    "sessions.to_csv('cuted_sessions.csv', index = False)"
   ]
  },
  {
   "cell_type": "markdown",
   "metadata": {},
   "source": [
    "Идея составления рекомендаций: чем чаще одного артиста слушают вместе с другим, тем с большей вероятностью его можно порекомендовать"
   ]
  },
  {
   "cell_type": "code",
   "execution_count": 8,
   "metadata": {
    "colab": {},
    "colab_type": "code",
    "id": "_36WHDXzTamo"
   },
   "outputs": [],
   "source": [
    "pair_dict = {}\n",
    "art_unq = sorted(sessions.artists_id.unique())\n",
    "i = 0\n",
    "for artist_one in art_unq:\n",
    "  for artist_two in art_unq[i:]:\n",
    "    pair_dict[artist_one, artist_two] = 0\n",
    "  i = i + 1"
   ]
  },
  {
   "cell_type": "code",
   "execution_count": 9,
   "metadata": {},
   "outputs": [
    {
     "data": {
      "text/plain": [
       "24503500"
      ]
     },
     "execution_count": 9,
     "metadata": {},
     "output_type": "execute_result"
    }
   ],
   "source": [
    "len(pair_dict)"
   ]
  },
  {
   "cell_type": "code",
   "execution_count": 10,
   "metadata": {
    "colab": {},
    "colab_type": "code",
    "id": "xjqJHO1EQLWG"
   },
   "outputs": [],
   "source": [
    "from sklearn.model_selection import train_test_split\n",
    "from tqdm import tqdm"
   ]
  },
  {
   "cell_type": "code",
   "execution_count": 11,
   "metadata": {
    "colab": {},
    "colab_type": "code",
    "id": "ocuXI8hFcDv9"
   },
   "outputs": [],
   "source": [
    "def update(dictionary, key_artist, other_artist, artists_vals):\n",
    "  keys = tuple(zip([key_artist]*len(other_artist), other_artist))\n",
    "  old_val = np.array([dictionary.get(key) for key in keys])\n",
    "  artists_vals = old_val + artists_vals\n",
    "  dictionary.update(dict(zip(keys, artists_vals)))"
   ]
  },
  {
   "cell_type": "code",
   "execution_count": 12,
   "metadata": {
    "colab": {},
    "colab_type": "code",
    "id": "b_YAqb65jpTT"
   },
   "outputs": [],
   "source": [
    "def data_to_update(data, dictionary):\n",
    "  for num in range(len(data)):\n",
    "    key_artist = data['artists_id'].iloc[num]\n",
    "    other_artists = data['artists_id'].iloc[num:]\n",
    "    artists_val = data['playtime'].iloc[num:]\n",
    "    update(dictionary, key_artist, other_artists, np.array(artists_val))"
   ]
  },
  {
   "cell_type": "code",
   "execution_count": 13,
   "metadata": {
    "colab": {
     "base_uri": "https://localhost:8080/",
     "height": 1000
    },
    "colab_type": "code",
    "id": "E2tquwMOPXPf",
    "outputId": "4de6157d-160f-4b30-c150-857bbc7280c0"
   },
   "outputs": [
    {
     "name": "stderr",
     "output_type": "stream",
     "text": [
      "100%|████████████████████████████████████████████████████████████████████████████| 44457/44457 [25:41<00:00, 28.84it/s]\n"
     ]
    }
   ],
   "source": [
    "unq_user = sessions.user_id.unique()\n",
    "\n",
    "for user in tqdm(unq_user):\n",
    "  cur_session = sessions[sessions['user_id'] == user]\n",
    "  if cur_session.shape[0] > 1:\n",
    "    train, test = train_test_split(cur_session,\n",
    "                    test_size=0.2, random_state=17)\n",
    "    \n",
    "    train = train.sort_values(by = 'artists_id')\n",
    "    test = test.sort_values(by = 'artists_id')\n",
    "    data_to_update(train, pair_dict)"
   ]
  },
  {
   "cell_type": "markdown",
   "metadata": {
    "colab_type": "text",
    "id": "IILVj9lG-rLN"
   },
   "source": [
    "Сохраним полученые пары"
   ]
  },
  {
   "cell_type": "code",
   "execution_count": 14,
   "metadata": {
    "colab": {
     "base_uri": "https://localhost:8080/",
     "height": 210
    },
    "colab_type": "code",
    "id": "ATivGtuDtakR",
    "outputId": "4d990247-bc41-43f5-dd21-1662899e5930"
   },
   "outputs": [],
   "source": [
    "import pickle\n",
    "with open('train_dict.pickle', 'wb') as f:\n",
    "  pickle.dump(pair_dict, f)"
   ]
  },
  {
   "cell_type": "code",
   "execution_count": 2,
   "metadata": {
    "colab": {},
    "colab_type": "code",
    "id": "LQU6LV7uQRSt"
   },
   "outputs": [],
   "source": [
    "import pickle\n",
    "with open('train_dict.pickle', 'rb') as f:\n",
    "    train_dic = pickle.load(f)"
   ]
  },
  {
   "cell_type": "code",
   "execution_count": 5,
   "metadata": {},
   "outputs": [],
   "source": [
    "sessions = pd.read_csv('cuted_sessions.csv')"
   ]
  },
  {
   "cell_type": "code",
   "execution_count": 6,
   "metadata": {},
   "outputs": [
    {
     "data": {
      "text/html": [
       "<div>\n",
       "<style scoped>\n",
       "    .dataframe tbody tr th:only-of-type {\n",
       "        vertical-align: middle;\n",
       "    }\n",
       "\n",
       "    .dataframe tbody tr th {\n",
       "        vertical-align: top;\n",
       "    }\n",
       "\n",
       "    .dataframe thead th {\n",
       "        text-align: right;\n",
       "    }\n",
       "</style>\n",
       "<table border=\"1\" class=\"dataframe\">\n",
       "  <thead>\n",
       "    <tr style=\"text-align: right;\">\n",
       "      <th></th>\n",
       "      <th>user_id</th>\n",
       "      <th>track_id</th>\n",
       "      <th>playtime</th>\n",
       "      <th>artists_id</th>\n",
       "    </tr>\n",
       "  </thead>\n",
       "  <tbody>\n",
       "    <tr>\n",
       "      <th>0</th>\n",
       "      <td>1</td>\n",
       "      <td>82832</td>\n",
       "      <td>6350</td>\n",
       "      <td>11467</td>\n",
       "    </tr>\n",
       "    <tr>\n",
       "      <th>1</th>\n",
       "      <td>1</td>\n",
       "      <td>1559353</td>\n",
       "      <td>6105</td>\n",
       "      <td>195697</td>\n",
       "    </tr>\n",
       "    <tr>\n",
       "      <th>2</th>\n",
       "      <td>1</td>\n",
       "      <td>2424490</td>\n",
       "      <td>24486</td>\n",
       "      <td>303270</td>\n",
       "    </tr>\n",
       "    <tr>\n",
       "      <th>3</th>\n",
       "      <td>1</td>\n",
       "      <td>149854</td>\n",
       "      <td>7528</td>\n",
       "      <td>19627</td>\n",
       "    </tr>\n",
       "    <tr>\n",
       "      <th>4</th>\n",
       "      <td>1</td>\n",
       "      <td>83948</td>\n",
       "      <td>3896</td>\n",
       "      <td>11617</td>\n",
       "    </tr>\n",
       "  </tbody>\n",
       "</table>\n",
       "</div>"
      ],
      "text/plain": [
       "   user_id  track_id  playtime  artists_id\n",
       "0        1     82832      6350       11467\n",
       "1        1   1559353      6105      195697\n",
       "2        1   2424490     24486      303270\n",
       "3        1    149854      7528       19627\n",
       "4        1     83948      3896       11617"
      ]
     },
     "execution_count": 6,
     "metadata": {},
     "output_type": "execute_result"
    }
   ],
   "source": [
    "sessions.head()"
   ]
  },
  {
   "cell_type": "markdown",
   "metadata": {},
   "source": [
    "Теперь нужно для каждого пользователя составить рекомендации. Работает это следующим образом: для каждого артиста из списка прослушанных пользователем выбирается наиболее вероятная пара, таким образом имеем len(train) предложенных артистов, этот список сортируется по величине вероятности и len(test) из них выбирается в качестве предложенных"
   ]
  },
  {
   "cell_type": "code",
   "execution_count": 3,
   "metadata": {},
   "outputs": [],
   "source": [
    "def get_max_pair(dictionary, keys):\n",
    "    max_val = dictionary[keys[0]]\n",
    "    max_key = keys[0][1]\n",
    "    for key in keys:\n",
    "        if dictionary.get(key) > max_val:\n",
    "            max_val = dictionary.get(key)\n",
    "            max_key = key[1]\n",
    "    return max_key, max_val"
   ]
  },
  {
   "cell_type": "code",
   "execution_count": 4,
   "metadata": {},
   "outputs": [],
   "source": [
    "def predict(data, dictionary, len_test):\n",
    "    max_val_list = []\n",
    "    for num in range(len(data)):\n",
    "        key_artist = data['artists_id'].iloc[num]\n",
    "        other_artists = data['artists_id'].iloc[num:]\n",
    "        keys = tuple(zip([key_artist]*len(other_artists), other_artists))\n",
    "        max_val_list.append(get_max_pair(dictionary, keys))\n",
    "    max_val_list.sort(key=operator.itemgetter(1))\n",
    "    predictions = [artist_pair[0] for artist_pair in max_val_list[:len_test]]\n",
    "    return predictions"
   ]
  },
  {
   "cell_type": "code",
   "execution_count": 7,
   "metadata": {},
   "outputs": [],
   "source": [
    "from sklearn.metrics import ndcg_score,roc_auc_score\n",
    "from sklearn.model_selection import train_test_split\n",
    "from tqdm import tqdm\n",
    "import operator"
   ]
  },
  {
   "cell_type": "markdown",
   "metadata": {},
   "source": [
    "Для оценки качества выбрана метрика РОК-аук, так как рекомендации - это задача многоклассовой классификации"
   ]
  },
  {
   "cell_type": "code",
   "execution_count": 40,
   "metadata": {},
   "outputs": [],
   "source": [
    "from sklearn.preprocessing import MultiLabelBinarizer\n",
    "def multiclass_roc_auc_score(all_artist, y_test, y_pred, average=\"macro\"):\n",
    "    lb = MultiLabelBinarizer()\n",
    "    lb.fit([all_artist['artists_id'].values])\n",
    "    y_test = lb.transform([y_test])\n",
    "    y_pred = lb.transform([y_pred])\n",
    "    return roc_auc_score(y_test[0], y_pred[0], average=average)"
   ]
  },
  {
   "cell_type": "code",
   "execution_count": 47,
   "metadata": {
    "colab": {},
    "colab_type": "code",
    "id": "bYjpxLESlYUL"
   },
   "outputs": [
    {
     "name": "stderr",
     "output_type": "stream",
     "text": [
      "100%|████████████████████████████████████████████████████████████████████████████| 44457/44457 [14:35<00:00, 50.79it/s]\n"
     ]
    }
   ],
   "source": [
    "unq_user = sessions.user_id.unique()\n",
    "user_score = dict(zip(unq_user, [0]*len(unq_user)))\n",
    "for user in tqdm(unq_user):\n",
    "    cur_session = sessions[sessions['user_id'] == user]\n",
    "    if cur_session.shape[0] > 10:\n",
    "        train, test = train_test_split(cur_session,\n",
    "                                       test_size=0.2, random_state=17)\n",
    "        train = train.sort_values(by = 'artists_id')\n",
    "        test = test.sort_values(by = 'artists_id')\n",
    "        predicts = sorted(predict(train, train_dic, len(test)))\n",
    "        #score = roc_auc_score(test.artists_id.values, np.array(predicts), multi_class = 'ovo')\n",
    "        score = multiclass_roc_auc_score(cur_session, test.artists_id, predicts)\n",
    "        user_score[user] = score"
   ]
  },
  {
   "cell_type": "code",
   "execution_count": 101,
   "metadata": {},
   "outputs": [],
   "source": [
    "with open('score_dict.pickle', 'wb') as f:\n",
    "    pickle.dump(user_score, f)"
   ]
  },
  {
   "cell_type": "code",
   "execution_count": 48,
   "metadata": {},
   "outputs": [
    {
     "name": "stdout",
     "output_type": "stream",
     "text": [
      "mean score: 0.33\n"
     ]
    },
    {
     "data": {
      "text/plain": [
       "<matplotlib.axes._subplots.AxesSubplot at 0x2040115a448>"
      ]
     },
     "execution_count": 48,
     "metadata": {},
     "output_type": "execute_result"
    },
    {
     "data": {
      "image/png": "[encoded data removed]",
      "text/plain": [
       "<Figure size 432x288 with 1 Axes>"
      ]
     },
     "metadata": {
      "needs_background": "light"
     },
     "output_type": "display_data"
    }
   ],
   "source": [
    "import seaborn as sns\n",
    "score = np.array(list(user_score.values()))\n",
    "print(\"mean score: %.2f\" %score.mean())\n",
    "sns.distplot(score)"
   ]
  },
  {
   "cell_type": "markdown",
   "metadata": {},
   "source": [
    "Интересно понять, в каком случае получается нулевая точность"
   ]
  },
  {
   "cell_type": "code",
   "execution_count": 117,
   "metadata": {},
   "outputs": [],
   "source": [
    "zero_score = {k for k, v in user_score.items() if v < 0.05}"
   ]
  },
  {
   "cell_type": "code",
   "execution_count": 118,
   "metadata": {},
   "outputs": [],
   "source": [
    "zero_user = sessions[sessions['user_id'].isin(zero_score)] "
   ]
  },
  {
   "cell_type": "code",
   "execution_count": 124,
   "metadata": {},
   "outputs": [
    {
     "data": {
      "text/plain": [
       "<matplotlib.axes._subplots.AxesSubplot at 0x259cd385d88>"
      ]
     },
     "execution_count": 124,
     "metadata": {},
     "output_type": "execute_result"
    },
    {
     "data": {
      "image/png": "[encoded data removed]",
      "text/plain": [
       "<Figure size 432x288 with 1 Axes>"
      ]
     },
     "metadata": {
      "needs_background": "light"
     },
     "output_type": "display_data"
    }
   ],
   "source": [
    "sns.distplot(zero_user.groupby(by = 'user_id').apply(len))"
   ]
  },
  {
   "cell_type": "markdown",
   "metadata": {},
   "source": [
    "Как видно, нулевой скор получается у пользователей, которые не послушали достаточно большое количество артистов"
   ]
  },
  {
   "cell_type": "code",
   "execution_count": 127,
   "metadata": {},
   "outputs": [
    {
     "data": {
      "image/png": "[encoded data removed]",
      "text/plain": [
       "<Figure size 432x288 with 1 Axes>"
      ]
     },
     "metadata": {
      "needs_background": "light"
     },
     "output_type": "display_data"
    }
   ],
   "source": [
    "import matplotlib.pyplot as plt\n",
    "sns.distplot(sessions.groupby(by = 'user_id').apply(len), label = 'zero score')\n",
    "sns.distplot(zero_user.groupby(by = 'user_id').apply(len), label = 'all')\n",
    "plt.legend();"
   ]
  },
  {
   "cell_type": "code",
   "execution_count": 111,
   "metadata": {},
   "outputs": [
    {
     "data": {
      "text/plain": [
       "<matplotlib.axes._subplots.AxesSubplot at 0x259cd4695c8>"
      ]
     },
     "execution_count": 111,
     "metadata": {},
     "output_type": "execute_result"
    },
    {
     "data": {
      "image/png": "[encoded data removed]",
      "text/plain": [
       "<Figure size 432x288 with 1 Axes>"
      ]
     },
     "metadata": {
      "needs_background": "light"
     },
     "output_type": "display_data"
    }
   ],
   "source": [
    "sns.distplot(zero_user.playtime)"
   ]
  }
 ],
 "metadata": {
  "colab": {
   "collapsed_sections": [],
   "name": "VK_baseline.ipynb",
   "provenance": []
  },
  "kernelspec": {
   "display_name": "Python 3",
   "language": "python",
   "name": "python3"
  },
  "language_info": {
   "codemirror_mode": {
    "name": "ipython",
    "version": 3
   },
   "file_extension": ".py",
   "mimetype": "text/x-python",
   "name": "python",
   "nbconvert_exporter": "python",
   "pygments_lexer": "ipython3",
   "version": "3.7.6"
  }
 },
 "nbformat": 4,
 "nbformat_minor": 1
}
